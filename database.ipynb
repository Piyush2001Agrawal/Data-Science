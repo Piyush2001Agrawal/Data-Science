{
 "cells": [
  {
   "cell_type": "code",
   "execution_count": 10,
   "id": "ee77dec7",
   "metadata": {},
   "outputs": [],
   "source": [
    "from sqlalchemy import create_engine, Column, Integer, String\n",
    "from sqlalchemy.orm import declarative_base, sessionmaker"
   ]
  },
  {
   "cell_type": "markdown",
   "id": "6780663d",
   "metadata": {},
   "source": [
    "- creaate_engine: it is used to make connection from database\n",
    "- column: it defines columns in the database\n",
    "- Integer and String: datatype of values in database "
   ]
  },
  {
   "cell_type": "code",
   "execution_count": 11,
   "id": "bb35ef31",
   "metadata": {},
   "outputs": [],
   "source": [
    "engine = create_engine('sqlite:///user.db')"
   ]
  },
  {
   "cell_type": "code",
   "execution_count": 12,
   "id": "a97af424",
   "metadata": {},
   "outputs": [],
   "source": [
    "Base = declarative_base()"
   ]
  },
  {
   "cell_type": "code",
   "execution_count": 13,
   "id": "d3b01c44",
   "metadata": {},
   "outputs": [],
   "source": [
    "class User(Base):\n",
    "    __tablename__ = 'users'\n",
    "    id = Column(Integer, primary_key=True)\n",
    "    name = Column(String)\n",
    "    password = Column(String)"
   ]
  },
  {
   "cell_type": "code",
   "execution_count": 14,
   "id": "21b74182",
   "metadata": {},
   "outputs": [],
   "source": [
    "Base.metadata.create_all(engine)"
   ]
  },
  {
   "cell_type": "code",
   "execution_count": 15,
   "id": "215b7fc1",
   "metadata": {},
   "outputs": [],
   "source": [
    "Session= sessionmaker(bind=engine) #this line tells the sessionmaker to use the engine we created\n",
    "session= Session() #this line creates a new session object"
   ]
  },
  {
   "cell_type": "code",
   "execution_count": 17,
   "id": "223a0479",
   "metadata": {},
   "outputs": [],
   "source": [
    "# add a new user to the database\n",
    "new_user = User(name='John Doe', password='password123')\n",
    "session.add(new_user)\n",
    "session.commit()# this line commits the change to the database"
   ]
  },
  {
   "cell_type": "code",
   "execution_count": 22,
   "id": "1da94209",
   "metadata": {},
   "outputs": [],
   "source": [
    "# add a new user to the database\n",
    "new_user = User(name='Smith Joe', password='smith123')\n",
    "session.add(new_user)\n",
    "session.commit()# this line commits the change to the database"
   ]
  },
  {
   "cell_type": "code",
   "execution_count": 23,
   "id": "b8c7b6ce",
   "metadata": {},
   "outputs": [
    {
     "name": "stdout",
     "output_type": "stream",
     "text": [
      "ID:1, Name:John Smith, Password:password123\n",
      "ID:2, Name:Smith Joe, Password:smith123\n",
      "ID:3, Name:Smith Joe, Password:smith123\n"
     ]
    }
   ],
   "source": [
    "#read all user from the database\n",
    "users =session.query(User).all() \n",
    "for user in users:\n",
    "    print(f'ID:{user.id}, Name:{user.name}, Password:{user.password}')"
   ]
  },
  {
   "cell_type": "code",
   "execution_count": 20,
   "id": "4c7e3403",
   "metadata": {},
   "outputs": [],
   "source": [
    "#update a user in the database\n",
    "user= session.query(User).filter_by(name='John Doe').first()# first() returns the first result of the query\n",
    "user.name ='John Smith' #update the name of the user\n",
    "session.commit()"
   ]
  },
  {
   "cell_type": "code",
   "execution_count": 24,
   "id": "b04a919f",
   "metadata": {},
   "outputs": [
    {
     "name": "stdout",
     "output_type": "stream",
     "text": [
      "ID:1, Name:John Smith, Password:password123\n",
      "ID:2, Name:Smith Joe, Password:smith123\n",
      "ID:3, Name:Smith Joe, Password:smith123\n"
     ]
    }
   ],
   "source": [
    "users =session.query(User).all() \n",
    "for user in users:\n",
    "    print(f'ID:{user.id}, Name:{user.name}, Password:{user.password}')"
   ]
  },
  {
   "cell_type": "code",
   "execution_count": 25,
   "id": "b4f530cb",
   "metadata": {},
   "outputs": [],
   "source": [
    "# delete a user from the database\n",
    "user=session.query(User).filter_by(id=2).first()\n",
    "session.delete(user)\n",
    "session.commit()# first() returns the first result of the query"
   ]
  },
  {
   "cell_type": "code",
   "execution_count": 26,
   "id": "5efc5a1d",
   "metadata": {},
   "outputs": [
    {
     "name": "stdout",
     "output_type": "stream",
     "text": [
      "ID:1, Name:John Smith, Password:password123\n",
      "ID:3, Name:Smith Joe, Password:smith123\n"
     ]
    }
   ],
   "source": [
    "users =session.query(User).all() \n",
    "for user in users:\n",
    "    print(f'ID:{user.id}, Name:{user.name}, Password:{user.password}')"
   ]
  },
  {
   "cell_type": "code",
   "execution_count": null,
   "id": "62fa9c92",
   "metadata": {},
   "outputs": [],
   "source": []
  }
 ],
 "metadata": {
  "kernelspec": {
   "display_name": "base",
   "language": "python",
   "name": "python3"
  },
  "language_info": {
   "codemirror_mode": {
    "name": "ipython",
    "version": 3
   },
   "file_extension": ".py",
   "mimetype": "text/x-python",
   "name": "python",
   "nbconvert_exporter": "python",
   "pygments_lexer": "ipython3",
   "version": "3.12.9"
  }
 },
 "nbformat": 4,
 "nbformat_minor": 5
}
