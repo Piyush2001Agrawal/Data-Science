{
 "cells": [
  {
   "cell_type": "code",
   "execution_count": 6,
   "metadata": {},
   "outputs": [
    {
     "name": "stdout",
     "output_type": "stream",
     "text": [
      "A+\n",
      "A\n",
      "B\n"
     ]
    }
   ],
   "source": [
    "marks = int(input(\"Enter your marks: \"))\n",
    "if marks >= 90:\n",
    "    print(\"A+\")\n",
    "if marks >=75:\n",
    "    print(\"A\")\n",
    "if marks >=60:\n",
    "    print(\"B\")\n",
    "if marks < 60:\n",
    "    print(\"FAIL\")\n"
   ]
  },
  {
   "cell_type": "code",
   "execution_count": 14,
   "metadata": {},
   "outputs": [
    {
     "name": "stdout",
     "output_type": "stream",
     "text": [
      "FAIL\n"
     ]
    }
   ],
   "source": [
    "marks = int(input(\"Enter your marks: \"))\n",
    "if marks >= 90:\n",
    "    print(\"A+\")\n",
    "elif marks >=75:\n",
    "    print(\"A\")\n",
    "elif marks >=60:\n",
    "    print(\"B\")\n",
    "elif marks < 60:\n",
    "    print(\"FAIL\")\n",
    "\n",
    "else:\n",
    "    print(\"Invalid input\")\n"
   ]
  },
  {
   "cell_type": "code",
   "execution_count": 15,
   "metadata": {},
   "outputs": [
    {
     "name": "stdout",
     "output_type": "stream",
     "text": [
      "You are eligible for vote\n"
     ]
    }
   ],
   "source": [
    "age= 20\n",
    "if age >=18:\n",
    "    print(\"You are eligible for vote\")\n",
    "else:\n",
    "    print(\"Youn are not eligilbe for vote\")"
   ]
  },
  {
   "cell_type": "code",
   "execution_count": null,
   "metadata": {},
   "outputs": [
    {
     "name": "stdout",
     "output_type": "stream",
     "text": [
      "enter number is negative\n"
     ]
    }
   ],
   "source": [
    "# To check a number is positive or negative\n",
    "number = int(input(\"Enter a number\"))\n",
    "if number >=0:\n",
    "    print(\"enter number is positive\")\n",
    "else:\n",
    "    print(\"enter number is negative\") "
   ]
  },
  {
   "cell_type": "code",
   "execution_count": null,
   "metadata": {},
   "outputs": [
    {
     "name": "stdout",
     "output_type": "stream",
     "text": [
      "enter number is even\n"
     ]
    }
   ],
   "source": [
    "# To check weather a number is even or odd\n",
    "num = int(input(\"Enter a number\"))\n",
    "if num % 2 == 0:\n",
    "    print(\"enter number is even\")\n",
    "else:\n",
    "    print(\"enter number is odd\") "
   ]
  },
  {
   "cell_type": "code",
   "execution_count": 6,
   "metadata": {},
   "outputs": [
    {
     "name": "stdout",
     "output_type": "stream",
     "text": [
      "Scalene Triangle\n"
     ]
    }
   ],
   "source": [
    "#  to check whether a triangle is equilateral, iscoseles, or scalene. print the message accordingly\n",
    "len = int(input(\"Enter length\"))\n",
    "width = int(input(\"Enter width\"))\n",
    "height= int(input(\"Enter height\"))\n",
    "if len == width == height:\n",
    "    print(\"Equilateral Triangle\")\n",
    "elif len ==  width or width == height or height == len:\n",
    "    print(\"Iscoseles Triangle\")\n",
    "else :\n",
    "    print(\"Scalene Triangle\")"
   ]
  },
  {
   "cell_type": "code",
   "execution_count": 2,
   "metadata": {},
   "outputs": [
    {
     "name": "stdout",
     "output_type": "stream",
     "text": [
      "Consonant\n"
     ]
    }
   ],
   "source": [
    "# to check whether a character entered by user is a vowel or not\n",
    "alp = input(\"Provide Alphabet : \")\n",
    "if alp == 'a' or alp == 'e' or alp == 'i' or alp == 'o' or alp == 'u'  :\n",
    "    print(\"Vowel\")\n",
    "else:\n",
    "    print(\"Consonant\")"
   ]
  },
  {
   "cell_type": "code",
   "execution_count": 7,
   "metadata": {},
   "outputs": [
    {
     "name": "stdout",
     "output_type": "stream",
     "text": [
      "Area of circle: 78.525\n"
     ]
    }
   ],
   "source": [
    "# calculate an area of a circle\n",
    "radius =  int(input(\"Enter Radius\"))\n",
    "area = 3.141 * radius ** 2\n",
    "print(\"Area of circle:\",area)"
   ]
  },
  {
   "cell_type": "code",
   "execution_count": 2,
   "metadata": {},
   "outputs": [
    {
     "name": "stdout",
     "output_type": "stream",
     "text": [
      "7 is a prime number\n"
     ]
    }
   ],
   "source": [
    "# to check whether a number is a prime number\n",
    "x = int (input(\"Enter number\"))\n",
    "if x >1:\n",
    "    for i in range(2, int(x** 0.5) + 1):\n",
    "        if x % i == 0:\n",
    "            print(x, \"is not a prime number\")\n",
    "            break\n",
    "    else:\n",
    "        print(x, \"is a prime number\")\n",
    "else:\n",
    "    print(x, \"is not a prime number\")"
   ]
  },
  {
   "cell_type": "code",
   "execution_count": 5,
   "metadata": {},
   "outputs": [
    {
     "name": "stdout",
     "output_type": "stream",
     "text": [
      "Net Salary of the employee is: 57500.0\n"
     ]
    }
   ],
   "source": [
    "#  take a basic salary of an employee from user where TDA is 10% and HRA is 5%, Calculate the net salary of an employee\n",
    "\n",
    "salary= int(input(\"Enter Salary\"))\n",
    "tda= 0.10  * salary \n",
    "hra=  0.05 * salary \n",
    "net_salary = salary + tda + hra\n",
    "print(\"Net Salary of the employee is:\", net_salary)\n",
    " "
   ]
  },
  {
   "cell_type": "code",
   "execution_count": 3,
   "metadata": {},
   "outputs": [
    {
     "name": "stdout",
     "output_type": "stream",
     "text": [
      "Registered succsfully done\n"
     ]
    }
   ],
   "source": [
    "username = input(\"Enter your username:\")\n",
    "email = input(\"Enter your email: \")\n",
    "password = input(\"Enter your password: \")\n",
    "cpass= input(\"Enter to confirm password: \")\n",
    "if len(username)>5 and len(username)<=15:\n",
    "    if '@' in email and \".\" in email:\n",
    "        if len(password)>=8 and len(password)<=20:\n",
    "            if password == cpass:\n",
    "                print(\"Registered succsfully done\")\n",
    "            else:\n",
    "                print(\"Password and confirm password do not match\")\n",
    "        else:\n",
    "            print(\"Invalid password\")\n",
    "    else:\n",
    "        print(\"invalid email\")\n",
    "else:\n",
    "    print(\"Invalid username\")"
   ]
  },
  {
   "cell_type": "code",
   "execution_count": null,
   "metadata": {},
   "outputs": [],
   "source": []
  }
 ],
 "metadata": {
  "kernelspec": {
   "display_name": "base",
   "language": "python",
   "name": "python3"
  },
  "language_info": {
   "codemirror_mode": {
    "name": "ipython",
    "version": 3
   },
   "file_extension": ".py",
   "mimetype": "text/x-python",
   "name": "python",
   "nbconvert_exporter": "python",
   "pygments_lexer": "ipython3",
   "version": "3.12.9"
  }
 },
 "nbformat": 4,
 "nbformat_minor": 2
}
