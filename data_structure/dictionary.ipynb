{
 "cells": [
  {
   "cell_type": "markdown",
   "metadata": {},
   "source": [
    "# talewind css"
   ]
  },
  {
   "cell_type": "markdown",
   "metadata": {},
   "source": [
    "- ways to declare dictionary\n",
    "- to access  key and values in dictionary\n",
    "- to add new pair in dictionary\n",
    "- loops in dictionay\n",
    "- nested dictionary\n"
   ]
  },
  {
   "cell_type": "code",
   "execution_count": 1,
   "metadata": {},
   "outputs": [
    {
     "name": "stdout",
     "output_type": "stream",
     "text": [
      "{'name': 'Piyush Agrawal', 'age': 23, 'class': 'bca', 'marks': 90}\n"
     ]
    }
   ],
   "source": [
    "student ={'name' :'Piyush Agrawal','age':23,\n",
    "          'class':input('enter course'),\n",
    "          'marks': 90}\n",
    "print(student)"
   ]
  },
  {
   "cell_type": "code",
   "execution_count": 47,
   "metadata": {},
   "outputs": [
    {
     "name": "stdout",
     "output_type": "stream",
     "text": [
      "{'Lucknow': [32, 28, 40], 'Delhi': [45, 35, 29], 'Chennai': [30, 25, 36]}\n"
     ]
    }
   ],
   "source": [
    "temp ={\n",
    "    'Lucknow': [32,28,40],\n",
    "    'Delhi': [45,35,29],\n",
    "    'Chennai':[30,25,36]\n",
    "}\n",
    "print(temp)"
   ]
  },
  {
   "cell_type": "code",
   "execution_count": 48,
   "metadata": {},
   "outputs": [
    {
     "name": "stdout",
     "output_type": "stream",
     "text": [
      "{'name': 'Piyush Agrawal', 'age': 22, 'course': 'python', 'marks': 90}\n"
     ]
    }
   ],
   "source": [
    "info =dict(name='Piyush Agrawal',age= 22, course='python',marks =90)\n",
    "print(info)"
   ]
  },
  {
   "cell_type": "code",
   "execution_count": 49,
   "metadata": {},
   "outputs": [
    {
     "name": "stdout",
     "output_type": "stream",
     "text": [
      "{'name': 'piyushhagrawal', 'age': 22, 'course': 'python', 'marks': 90}\n"
     ]
    }
   ],
   "source": [
    "info2 =dict(name=input('Enter your name'),age= 22, course='python',marks =90)\n",
    "print(info2)"
   ]
  },
  {
   "cell_type": "code",
   "execution_count": 50,
   "metadata": {},
   "outputs": [
    {
     "name": "stdout",
     "output_type": "stream",
     "text": [
      "Piyush Agrawal\n"
     ]
    }
   ],
   "source": [
    "#1st method to access value using its key\n",
    "print(info['name'])"
   ]
  },
  {
   "cell_type": "code",
   "execution_count": 51,
   "metadata": {},
   "outputs": [
    {
     "name": "stdout",
     "output_type": "stream",
     "text": [
      "22\n"
     ]
    }
   ],
   "source": [
    "#2nd method to access value using its key\n",
    "print(info.get('age'))"
   ]
  },
  {
   "cell_type": "code",
   "execution_count": 52,
   "metadata": {},
   "outputs": [
    {
     "name": "stdout",
     "output_type": "stream",
     "text": [
      "{'name': 'Piyush Agrawal', 'age': 23, 'class': 'piyush agrawal', 'marks': 90, 'city': 'lucknow'}\n"
     ]
    }
   ],
   "source": [
    "#to add anew pair in the dictionary\n",
    "student ['city']='lucknow'\n",
    "print(student)"
   ]
  },
  {
   "cell_type": "code",
   "execution_count": 2,
   "metadata": {},
   "outputs": [
    {
     "name": "stdout",
     "output_type": "stream",
     "text": [
      "dict_keys(['name', 'age', 'class', 'marks'])\n",
      "dict_values(['Piyush Agrawal', 23, 'bca', 90])\n",
      "dict_items([('name', 'Piyush Agrawal'), ('age', 23), ('class', 'bca'), ('marks', 90)])\n"
     ]
    }
   ],
   "source": [
    "print(student.keys())\n",
    "print(student.values())\n",
    "print(student.items())"
   ]
  },
  {
   "cell_type": "code",
   "execution_count": 54,
   "metadata": {},
   "outputs": [
    {
     "name": "stdout",
     "output_type": "stream",
     "text": [
      "name\n",
      "age\n",
      "class\n",
      "marks\n",
      "city\n"
     ]
    }
   ],
   "source": [
    "for k in student:\n",
    "    print(k)\n",
    "    \n",
    "    "
   ]
  },
  {
   "cell_type": "code",
   "execution_count": 55,
   "metadata": {},
   "outputs": [
    {
     "name": "stdout",
     "output_type": "stream",
     "text": [
      "name Piyush Agrawal\n",
      "name : Piyush Agrawal\n",
      "age 23\n",
      "age : 23\n",
      "class piyush agrawal\n",
      "class : piyush agrawal\n",
      "marks 90\n",
      "marks : 90\n",
      "city lucknow\n",
      "city : lucknow\n"
     ]
    }
   ],
   "source": [
    "for k,v in student.items():\n",
    "    print(k,v)\n",
    "    print(f'{k} : {v}')"
   ]
  },
  {
   "cell_type": "code",
   "execution_count": 56,
   "metadata": {},
   "outputs": [
    {
     "name": "stdout",
     "output_type": "stream",
     "text": [
      "sum is 40\n",
      "sum of 10 and 30 is 40\n"
     ]
    }
   ],
   "source": [
    "a =10\n",
    "b= 30\n",
    "add= a+b\n",
    "print(\"sum is\",add)\n",
    "print(f'sum of {a} and {b} is {add}')"
   ]
  },
  {
   "cell_type": "code",
   "execution_count": 57,
   "metadata": {},
   "outputs": [
    {
     "name": "stdout",
     "output_type": "stream",
     "text": [
      "{'emp001': {'name': 'Piyush', 'salary': 35000, 'city': 'Lucknow'}, 'emp002': {'name': 'Sachin', 'salary': 25000, 'city': 'orai'}, 'emp003': {'name': 'Geershati', 'salary': 30000, 'city': 'Lucknow'}}\n"
     ]
    }
   ],
   "source": [
    "company ={'emp001':{\n",
    "    'name': 'Piyush',\n",
    "    'salary': 35000,\n",
    "    'city': 'Lucknow'\n",
    "},\n",
    "'emp002':{\n",
    "    'name': 'Sachin',\n",
    "    'salary': 25000,\n",
    "    'city': 'orai'},\n",
    "'emp003':{\n",
    "    'name':'Geershati',\n",
    "    'salary':30000,\n",
    "    'city':'Lucknow'\n",
    "       }\n",
    "}\n",
    "print(company)"
   ]
  },
  {
   "cell_type": "code",
   "execution_count": 58,
   "metadata": {},
   "outputs": [],
   "source": [
    "from pprint import pprint"
   ]
  },
  {
   "cell_type": "code",
   "execution_count": 59,
   "metadata": {},
   "outputs": [
    {
     "name": "stdout",
     "output_type": "stream",
     "text": [
      "{'emp001': {'city': 'Lucknow', 'name': 'Piyush', 'salary': 35000},\n",
      " 'emp002': {'city': 'orai', 'name': 'Sachin', 'salary': 25000},\n",
      " 'emp003': {'city': 'Lucknow', 'name': 'Geershati', 'salary': 30000}}\n"
     ]
    }
   ],
   "source": [
    "pprint(company)"
   ]
  },
  {
   "cell_type": "code",
   "execution_count": 60,
   "metadata": {},
   "outputs": [
    {
     "name": "stdout",
     "output_type": "stream",
     "text": [
      "Sachin\n"
     ]
    }
   ],
   "source": [
    "print(company['emp002']['name'])"
   ]
  },
  {
   "cell_type": "code",
   "execution_count": 61,
   "metadata": {},
   "outputs": [
    {
     "name": "stdout",
     "output_type": "stream",
     "text": [
      "28\n"
     ]
    }
   ],
   "source": [
    "print(temp['Lucknow'][1])"
   ]
  },
  {
   "cell_type": "code",
   "execution_count": 63,
   "metadata": {},
   "outputs": [
    {
     "name": "stdout",
     "output_type": "stream",
     "text": [
      "Average temp od Delhi : 36.333333333333336\n"
     ]
    }
   ],
   "source": [
    "print('Average temp od Delhi :',sum(temp['Delhi'])/len(temp['Delhi']))"
   ]
  },
  {
   "cell_type": "code",
   "execution_count": null,
   "metadata": {},
   "outputs": [],
   "source": []
  },
  {
   "cell_type": "code",
   "execution_count": null,
   "metadata": {},
   "outputs": [],
   "source": []
  }
 ],
 "metadata": {
  "kernelspec": {
   "display_name": "base",
   "language": "python",
   "name": "python3"
  },
  "language_info": {
   "codemirror_mode": {
    "name": "ipython",
    "version": 3
   },
   "file_extension": ".py",
   "mimetype": "text/x-python",
   "name": "python",
   "nbconvert_exporter": "python",
   "pygments_lexer": "ipython3",
   "version": "3.12.9"
  }
 },
 "nbformat": 4,
 "nbformat_minor": 2
}
