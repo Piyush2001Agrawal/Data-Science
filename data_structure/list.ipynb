{
 "cells": [
  {
   "cell_type": "code",
   "execution_count": 2,
   "metadata": {},
   "outputs": [
    {
     "name": "stdout",
     "output_type": "stream",
     "text": [
      "['google', 'amazon', 'flipkart', 'drive', 'ola', 'swiggy', 'zomato', 'insta', 'whatsapp', 'facebook']\n"
     ]
    }
   ],
   "source": [
    "apps = ['google','amazon',\"flipkart\",\"drive\",'ola','swiggy','zomato','insta','whatsapp','facebook']\n",
    "print(apps)"
   ]
  },
  {
   "cell_type": "code",
   "execution_count": 8,
   "metadata": {},
   "outputs": [
    {
     "name": "stdout",
     "output_type": "stream",
     "text": [
      "swiggy\n",
      "insta\n"
     ]
    }
   ],
   "source": [
    "# Indexing\n",
    "print(apps[5]) # positive index\n",
    "print(apps[-3]) # negative indes"
   ]
  },
  {
   "cell_type": "code",
   "execution_count": 11,
   "metadata": {},
   "outputs": [
    {
     "name": "stdout",
     "output_type": "stream",
     "text": [
      "['flipkart', 'drive', 'ola', 'swiggy', 'zomato']\n",
      "['amazon', 'drive', 'swiggy', 'insta', 'facebook']\n",
      "['flipkart', 'drive', 'ola', 'swiggy', 'zomato', 'insta', 'whatsapp', 'facebook']\n",
      "['flipkart', 'ola', 'zomato', 'whatsapp']\n",
      "['google', 'amazon', 'flipkart', 'drive', 'ola']\n",
      "['google', 'amazon', 'flipkart', 'drive', 'ola', 'swiggy', 'zomato', 'insta', 'whatsapp', 'facebook']\n"
     ]
    }
   ],
   "source": [
    "# Slicing\n",
    "print(apps[2:7])\n",
    "print(apps[1:10:2])\n",
    "print(apps[2:])\n",
    "print(apps[2::2])\n",
    "print(apps[:5])\n",
    "print(apps[:])"
   ]
  },
  {
   "cell_type": "markdown",
   "metadata": {},
   "source": [
    "# List methods\n",
    "- Append - to add an element at the end of the list\n",
    "- insert - to add an element at any specific position\n",
    "- pop - delete an item using the index position of the element\n",
    "- remove - to delete an element using its name\n",
    "- copy - to make a copy of the list\n",
    "- sort - to sort the items in any particular order\n",
    "- extend - to combine two list in one list\n",
    "- reverse - to reverse the order of the list\n",
    "- clear - to remove all the items of the list but not the list"
   ]
  },
  {
   "cell_type": "code",
   "execution_count": 14,
   "metadata": {},
   "outputs": [
    {
     "name": "stdout",
     "output_type": "stream",
     "text": [
      "['google', 'amazon', 'flipkart', 'paytm', 'drive', 'ola', 'swiggy', 'zomato', 'insta', 'whatsapp', 'facebook', 'snapchat', 'snapchat']\n"
     ]
    }
   ],
   "source": [
    "# append\n",
    "apps.append(\"snapchat\")\n",
    "print(apps)"
   ]
  },
  {
   "cell_type": "code",
   "execution_count": 13,
   "metadata": {},
   "outputs": [
    {
     "name": "stdout",
     "output_type": "stream",
     "text": [
      "['google', 'amazon', 'flipkart', 'paytm', 'drive', 'ola', 'swiggy', 'zomato', 'insta', 'whatsapp', 'facebook', 'snapchat']\n"
     ]
    }
   ],
   "source": [
    "# insert\n",
    "apps.insert(3,'paytm')\n",
    "print(apps)"
   ]
  },
  {
   "cell_type": "code",
   "execution_count": 15,
   "metadata": {},
   "outputs": [
    {
     "name": "stdout",
     "output_type": "stream",
     "text": [
      "['google', 'amazon', 'flipkart', 'paytm', 'drive', 'ola', 'swiggy', 'zomato', 'insta', 'whatsapp', 'facebook', 'snapchat']\n"
     ]
    }
   ],
   "source": [
    "apps.pop(11)\n",
    "print(apps)"
   ]
  },
  {
   "cell_type": "code",
   "execution_count": 17,
   "metadata": {},
   "outputs": [
    {
     "name": "stdout",
     "output_type": "stream",
     "text": [
      "['google', 'amazon', 'flipkart', 'paytm', 'drive', 'swiggy', 'zomato', 'insta', 'whatsapp', 'facebook', 'snapchat']\n"
     ]
    }
   ],
   "source": [
    "apps.remove(\"ola\")\n",
    "print(apps)"
   ]
  },
  {
   "cell_type": "code",
   "execution_count": 18,
   "metadata": {},
   "outputs": [
    {
     "name": "stdout",
     "output_type": "stream",
     "text": [
      "['google', 'amazon', 'flipkart', 'paytm', 'drive', 'swiggy', 'zomato', 'insta', 'whatsapp', 'facebook', 'snapchat']\n"
     ]
    }
   ],
   "source": [
    "a= apps.copy()\n",
    "print(a)"
   ]
  },
  {
   "cell_type": "code",
   "execution_count": 20,
   "metadata": {},
   "outputs": [
    {
     "name": "stdout",
     "output_type": "stream",
     "text": [
      "['amazon', 'drive', 'facebook', 'flipkart', 'google', 'insta', 'paytm', 'snapchat', 'swiggy', 'whatsapp', 'zomato']\n"
     ]
    }
   ],
   "source": [
    "a.sort()\n",
    "print(a)"
   ]
  },
  {
   "cell_type": "code",
   "execution_count": 21,
   "metadata": {},
   "outputs": [
    {
     "name": "stdout",
     "output_type": "stream",
     "text": [
      "[]\n"
     ]
    }
   ],
   "source": [
    "a.clear()\n",
    "print(a)"
   ]
  },
  {
   "cell_type": "code",
   "execution_count": 22,
   "metadata": {},
   "outputs": [
    {
     "name": "stdout",
     "output_type": "stream",
     "text": [
      "['snapchat', 'facebook', 'whatsapp', 'insta', 'zomato', 'swiggy', 'drive', 'paytm', 'flipkart', 'amazon', 'google']\n"
     ]
    }
   ],
   "source": [
    "apps.reverse()\n",
    "print(apps)"
   ]
  },
  {
   "cell_type": "code",
   "execution_count": 23,
   "metadata": {},
   "outputs": [
    {
     "name": "stdout",
     "output_type": "stream",
     "text": [
      "['water', 'juice', 'milk', 'tea']\n",
      "['snapchat', 'facebook', 'whatsapp', 'insta', 'zomato', 'swiggy', 'drive', 'paytm', 'flipkart', 'amazon', 'google', 'water', 'juice', 'milk', 'tea']\n"
     ]
    }
   ],
   "source": [
    "app2 = ['water','juice',\"milk\",\"tea\"]\n",
    "print(app2)\n",
    "apps.extend(app2)\n",
    "print(apps)"
   ]
  },
  {
   "cell_type": "code",
   "execution_count": 24,
   "metadata": {},
   "outputs": [
    {
     "name": "stdout",
     "output_type": "stream",
     "text": [
      "['water', 'juice', 'milk', 'tea', 'snapchat', 'facebook', 'whatsapp', 'insta', 'zomato', 'swiggy', 'drive', 'paytm', 'flipkart', 'amazon', 'google', 'water', 'juice', 'milk', 'tea']\n"
     ]
    }
   ],
   "source": [
    "app2.extend(apps)\n",
    "print(app2)"
   ]
  },
  {
   "cell_type": "code",
   "execution_count": null,
   "metadata": {},
   "outputs": [],
   "source": []
  }
 ],
 "metadata": {
  "kernelspec": {
   "display_name": "base",
   "language": "python",
   "name": "python3"
  },
  "language_info": {
   "codemirror_mode": {
    "name": "ipython",
    "version": 3
   },
   "file_extension": ".py",
   "mimetype": "text/x-python",
   "name": "python",
   "nbconvert_exporter": "python",
   "pygments_lexer": "ipython3",
   "version": "3.12.9"
  }
 },
 "nbformat": 4,
 "nbformat_minor": 2
}
